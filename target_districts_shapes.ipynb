{
 "cells": [
  {
   "cell_type": "code",
   "execution_count": 10,
   "id": "45b9c178-f528-4d3e-adf2-854abd834723",
   "metadata": {
    "scrolled": true
   },
   "outputs": [
    {
     "data": {
      "text/html": [
       "<div>\n",
       "<style scoped>\n",
       "    .dataframe tbody tr th:only-of-type {\n",
       "        vertical-align: middle;\n",
       "    }\n",
       "\n",
       "    .dataframe tbody tr th {\n",
       "        vertical-align: top;\n",
       "    }\n",
       "\n",
       "    .dataframe thead th {\n",
       "        text-align: right;\n",
       "    }\n",
       "</style>\n",
       "<table border=\"1\" class=\"dataframe\">\n",
       "  <thead>\n",
       "    <tr style=\"text-align: right;\">\n",
       "      <th></th>\n",
       "      <th>STATEFP</th>\n",
       "      <th>SLDLST</th>\n",
       "      <th>GEOID</th>\n",
       "      <th>GEOIDFQ</th>\n",
       "      <th>NAMELSAD</th>\n",
       "      <th>LSAD</th>\n",
       "      <th>LSY</th>\n",
       "      <th>MTFCC</th>\n",
       "      <th>FUNCSTAT</th>\n",
       "      <th>ALAND</th>\n",
       "      <th>AWATER</th>\n",
       "      <th>INTPTLAT</th>\n",
       "      <th>INTPTLON</th>\n",
       "      <th>geometry</th>\n",
       "    </tr>\n",
       "  </thead>\n",
       "  <tbody>\n",
       "    <tr>\n",
       "      <th>0</th>\n",
       "      <td>51</td>\n",
       "      <td>054</td>\n",
       "      <td>51054</td>\n",
       "      <td>620L900US51054</td>\n",
       "      <td>State House District 54</td>\n",
       "      <td>LL</td>\n",
       "      <td>2024</td>\n",
       "      <td>G5220</td>\n",
       "      <td>N</td>\n",
       "      <td>78515685</td>\n",
       "      <td>807086</td>\n",
       "      <td>+38.0380678</td>\n",
       "      <td>-078.4792351</td>\n",
       "      <td>POLYGON ((-78.53848 37.98576, -78.53839 37.985...</td>\n",
       "    </tr>\n",
       "    <tr>\n",
       "      <th>1</th>\n",
       "      <td>51</td>\n",
       "      <td>055</td>\n",
       "      <td>51055</td>\n",
       "      <td>620L900US51055</td>\n",
       "      <td>State House District 55</td>\n",
       "      <td>LL</td>\n",
       "      <td>2024</td>\n",
       "      <td>G5220</td>\n",
       "      <td>N</td>\n",
       "      <td>2448326375</td>\n",
       "      <td>18156064</td>\n",
       "      <td>+37.9921868</td>\n",
       "      <td>-078.5634433</td>\n",
       "      <td>POLYGON ((-78.92154 37.80473, -78.92111 37.806...</td>\n",
       "    </tr>\n",
       "    <tr>\n",
       "      <th>2</th>\n",
       "      <td>51</td>\n",
       "      <td>043</td>\n",
       "      <td>51043</td>\n",
       "      <td>620L900US51043</td>\n",
       "      <td>State House District 43</td>\n",
       "      <td>LL</td>\n",
       "      <td>2024</td>\n",
       "      <td>G5220</td>\n",
       "      <td>N</td>\n",
       "      <td>4698897237</td>\n",
       "      <td>19212740</td>\n",
       "      <td>+37.1526052</td>\n",
       "      <td>-081.7450802</td>\n",
       "      <td>POLYGON ((-82.55391 37.20289, -82.55391 37.202...</td>\n",
       "    </tr>\n",
       "    <tr>\n",
       "      <th>3</th>\n",
       "      <td>51</td>\n",
       "      <td>047</td>\n",
       "      <td>51047</td>\n",
       "      <td>620L900US51047</td>\n",
       "      <td>State House District 47</td>\n",
       "      <td>LL</td>\n",
       "      <td>2024</td>\n",
       "      <td>G5220</td>\n",
       "      <td>N</td>\n",
       "      <td>3790234601</td>\n",
       "      <td>19150458</td>\n",
       "      <td>+36.7584541</td>\n",
       "      <td>-080.4337167</td>\n",
       "      <td>POLYGON ((-81.04243 36.80645, -81.04199 36.806...</td>\n",
       "    </tr>\n",
       "    <tr>\n",
       "      <th>4</th>\n",
       "      <td>51</td>\n",
       "      <td>058</td>\n",
       "      <td>51058</td>\n",
       "      <td>620L900US51058</td>\n",
       "      <td>State House District 58</td>\n",
       "      <td>LL</td>\n",
       "      <td>2024</td>\n",
       "      <td>G5220</td>\n",
       "      <td>N</td>\n",
       "      <td>80081100</td>\n",
       "      <td>3622798</td>\n",
       "      <td>+37.5975089</td>\n",
       "      <td>-077.5774900</td>\n",
       "      <td>POLYGON ((-77.65539 37.56399, -77.65537 37.564...</td>\n",
       "    </tr>\n",
       "  </tbody>\n",
       "</table>\n",
       "</div>"
      ],
      "text/plain": [
       "  STATEFP SLDLST  GEOID         GEOIDFQ                 NAMELSAD LSAD   LSY  \\\n",
       "0      51    054  51054  620L900US51054  State House District 54   LL  2024   \n",
       "1      51    055  51055  620L900US51055  State House District 55   LL  2024   \n",
       "2      51    043  51043  620L900US51043  State House District 43   LL  2024   \n",
       "3      51    047  51047  620L900US51047  State House District 47   LL  2024   \n",
       "4      51    058  51058  620L900US51058  State House District 58   LL  2024   \n",
       "\n",
       "   MTFCC FUNCSTAT       ALAND    AWATER     INTPTLAT      INTPTLON  \\\n",
       "0  G5220        N    78515685    807086  +38.0380678  -078.4792351   \n",
       "1  G5220        N  2448326375  18156064  +37.9921868  -078.5634433   \n",
       "2  G5220        N  4698897237  19212740  +37.1526052  -081.7450802   \n",
       "3  G5220        N  3790234601  19150458  +36.7584541  -080.4337167   \n",
       "4  G5220        N    80081100   3622798  +37.5975089  -077.5774900   \n",
       "\n",
       "                                            geometry  \n",
       "0  POLYGON ((-78.53848 37.98576, -78.53839 37.985...  \n",
       "1  POLYGON ((-78.92154 37.80473, -78.92111 37.806...  \n",
       "2  POLYGON ((-82.55391 37.20289, -82.55391 37.202...  \n",
       "3  POLYGON ((-81.04243 36.80645, -81.04199 36.806...  \n",
       "4  POLYGON ((-77.65539 37.56399, -77.65537 37.564...  "
      ]
     },
     "execution_count": 10,
     "metadata": {},
     "output_type": "execute_result"
    }
   ],
   "source": [
    "import geopandas as gpd\n",
    "\n",
    "sldl_51 = gpd.read_file('data/tl_2024_51_sldl.shp')\n",
    "sldl_51.head()"
   ]
  },
  {
   "cell_type": "code",
   "execution_count": 11,
   "id": "8b8fd21d-2102-4c61-bc1d-ad2b9d50ef18",
   "metadata": {},
   "outputs": [
    {
     "data": {
      "text/plain": [
       "Index(['STATEFP', 'SLDLST', 'GEOID', 'GEOIDFQ', 'NAMELSAD', 'LSAD', 'LSY',\n",
       "       'MTFCC', 'FUNCSTAT', 'ALAND', 'AWATER', 'INTPTLAT', 'INTPTLON',\n",
       "       'geometry'],\n",
       "      dtype='object')"
      ]
     },
     "execution_count": 11,
     "metadata": {},
     "output_type": "execute_result"
    }
   ],
   "source": [
    "sldl_51.columns"
   ]
  },
  {
   "cell_type": "code",
   "execution_count": 12,
   "id": "6edf198a-0762-4223-b438-c791e5ce0b9e",
   "metadata": {},
   "outputs": [],
   "source": [
    "target_districts = [\"057\", \"064\", \"066\", \"069\", \"071\", \"073\", \"075\", \"021\", \"030\",\n",
    "                    \"065\", \"084\", \"097\", \"086\", \"022\", \"041\", \"082\", \"089\", \"034\"]\n",
    "targets_gdf = sldl_51[sldl_51[\"SLDLST\"].isin(target_districts)]"
   ]
  },
  {
   "cell_type": "code",
   "execution_count": 13,
   "id": "4a494fb0-4785-4646-bda1-b285f88f6f72",
   "metadata": {},
   "outputs": [],
   "source": [
    "targets_gdf = targets_gdf.copy()"
   ]
  },
  {
   "cell_type": "code",
   "execution_count": 14,
   "id": "7d3370bb-f11b-400b-ba90-2bf8eb0fa77a",
   "metadata": {},
   "outputs": [],
   "source": [
    "targets_gdf[\"WKT\"] = targets_gdf[\"geometry\"].to_wkt()"
   ]
  },
  {
   "cell_type": "code",
   "execution_count": 15,
   "id": "790fe650-0603-46a5-a593-6500eca72796",
   "metadata": {},
   "outputs": [],
   "source": [
    "targets_gdf.drop('geometry', axis=1, inplace=True)"
   ]
  },
  {
   "cell_type": "code",
   "execution_count": 16,
   "id": "38841b94-be73-4907-b2a0-00336f940ed1",
   "metadata": {},
   "outputs": [],
   "source": [
    "targets_gdf.to_csv('output/target_districts.csv', index=False)"
   ]
  },
  {
   "cell_type": "code",
   "execution_count": 17,
   "id": "e1313cc7-8b45-44a3-b834-5d7e00cca3c6",
   "metadata": {},
   "outputs": [
    {
     "name": "stdout",
     "output_type": "stream",
     "text": [
      "Created output/R03_target_districts.csv with 2 rows\n",
      "Created output/R04_target_districts.csv with 2 rows\n",
      "Created output/R05_target_districts.csv with 2 rows\n",
      "Created output/R06_target_districts.csv with 1 rows\n",
      "Created output/R07_target_districts.csv with 2 rows\n",
      "Created output/R08_target_districts.csv with 2 rows\n",
      "Created output/R09_target_districts.csv with 2 rows\n",
      "Created output/R10_target_districts.csv with 1 rows\n",
      "Created output/R11_target_districts.csv with 2 rows\n",
      "Created output/R12_target_districts.csv with 1 rows\n",
      "Created output/R13_target_districts.csv with 1 rows\n",
      "All regional CSV files have been created!\n"
     ]
    }
   ],
   "source": [
    "# regions dictionary\n",
    "regions = {\n",
    "    \"R03\": [\"021\", \"030\"],\n",
    "    \"R04\": [\"022\", \"064\"],\n",
    "    \"R05\": [\"065\", \"066\"],\n",
    "    \"R06\": [\"057\"],\n",
    "    \"R07\": [\"073\", \"075\"],\n",
    "    \"R08\": [\"069\", \"086\"],\n",
    "    \"R09\": [\"084\", \"089\"],\n",
    "    \"R10\": [\"097\"],\n",
    "    \"R11\": [\"071\", \"082\"],\n",
    "    \"R12\": [\"034\"],\n",
    "    \"R13\": [\"041\"]\n",
    "}\n",
    "\n",
    "# Loop through each region and create CSV files\n",
    "for region_code, district_codes in regions.items():\n",
    "    # Filter the GDF for the current region's districts\n",
    "    region_gdf = targets_gdf[targets_gdf[\"SLDLST\"].isin(district_codes)]\n",
    "    \n",
    "    # Create the output filename\n",
    "    output_filename = f'output/{region_code}_target_districts.csv'\n",
    "    \n",
    "    # Save to CSV\n",
    "    region_gdf.to_csv(output_filename, index=False)\n",
    "    \n",
    "    print(f\"Created {output_filename} with {len(region_gdf)} rows\")\n",
    "\n",
    "print(\"All regional CSV files have been created!\")"
   ]
  },
  {
   "cell_type": "code",
   "execution_count": 19,
   "id": "522438d6-5097-4c7f-be4a-c9e327bb4095",
   "metadata": {},
   "outputs": [
    {
     "data": {
      "text/plain": [
       "Index(['STATEFP', 'SLDLST', 'GEOID', 'GEOIDFQ', 'NAMELSAD', 'LSAD', 'LSY',\n",
       "       'MTFCC', 'FUNCSTAT', 'ALAND', 'AWATER', 'INTPTLAT', 'INTPTLON', 'WKT'],\n",
       "      dtype='object')"
      ]
     },
     "execution_count": 19,
     "metadata": {},
     "output_type": "execute_result"
    }
   ],
   "source": [
    "targets_gdf.columns"
   ]
  }
 ],
 "metadata": {
  "kernelspec": {
   "display_name": "Python 3 (ipykernel)",
   "language": "python",
   "name": "python3"
  },
  "language_info": {
   "codemirror_mode": {
    "name": "ipython",
    "version": 3
   },
   "file_extension": ".py",
   "mimetype": "text/x-python",
   "name": "python",
   "nbconvert_exporter": "python",
   "pygments_lexer": "ipython3",
   "version": "3.13.1"
  }
 },
 "nbformat": 4,
 "nbformat_minor": 5
}
