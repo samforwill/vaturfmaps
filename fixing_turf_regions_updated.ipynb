{
 "cells": [
  {
   "cell_type": "code",
   "execution_count": 37,
   "id": "7f3f7cb6-f29d-4386-b2ac-cb5884f32d8e",
   "metadata": {},
   "outputs": [],
   "source": [
    "import geopandas as gpd\n",
    "import pandas as pd\n",
    "\n",
    "precinct_shapes = gpd.read_file('data/master_precinct_shapes.csv')\n",
    "turfed_precincts_updated = pd.read_csv('data/turfs_regions_base_updated.csv', dtype={'van_precinct_id': str})\n"
   ]
  },
  {
   "cell_type": "code",
   "execution_count": 38,
   "id": "a9e5bade-be0b-48c7-b93f-acc0c7227f6f",
   "metadata": {},
   "outputs": [
    {
     "data": {
      "text/plain": [
       "Index(['van_precinct_id', 'county_name', 'van_precinct_name', 'Current Region',\n",
       "       'Current Turf', 'HDs', 'voters', 'supporters', 'precinct_name_doe',\n",
       "       'GEOID', 'centroid_lat', 'centroid_lon', 'min_lon', 'min_lat',\n",
       "       'max_lon', 'max_lat', 'Changed'],\n",
       "      dtype='object')"
      ]
     },
     "execution_count": 38,
     "metadata": {},
     "output_type": "execute_result"
    }
   ],
   "source": [
    "turfed_precincts_updated.columns"
   ]
  },
  {
   "cell_type": "code",
   "execution_count": 39,
   "id": "394878e5-8382-47d5-a019-2ad532eff17d",
   "metadata": {},
   "outputs": [
    {
     "data": {
      "text/plain": [
       "Index(['PrcnctName', 'van_precinct_name', 'CountyName', 'county_name',\n",
       "       'CountyFIPS', 'county_fips', 'GEOID', 'van_precinct_id', 'WKT',\n",
       "       'geometry'],\n",
       "      dtype='object')"
      ]
     },
     "execution_count": 39,
     "metadata": {},
     "output_type": "execute_result"
    }
   ],
   "source": [
    "precinct_shapes.columns"
   ]
  },
  {
   "cell_type": "code",
   "execution_count": 40,
   "id": "ca5eb435-bc82-4d7f-b96e-0c103e2769f0",
   "metadata": {},
   "outputs": [
    {
     "name": "stdout",
     "output_type": "stream",
     "text": [
      "Original turf data: 2583 records\n",
      "Original shape data: 2541 records\n",
      "Merged data: 2647 records\n",
      "Records with geometry: 2647\n",
      "Records without geometry: 0\n",
      "All turf records preserved: False\n",
      "\n",
      "Columns in merged dataset:\n",
      "['van_precinct_id', 'county_name', 'van_precinct_name', 'Current Region', 'Current Turf', 'HDs', 'voters', 'supporters', 'precinct_name_doe', 'GEOID', 'geometry']\n",
      "\n",
      "First few rows:\n",
      "  van_precinct_id        county_name                   van_precinct_name  \\\n",
      "0          297094  Alexandria (City)           103 - Lyles Crouch School   \n",
      "1          297100  Alexandria (City)  109 - Fire Department Headquarters   \n",
      "2          297095  Alexandria (City)                 104 - Durant Center   \n",
      "3          297093  Alexandria (City)                     102 - City Hall   \n",
      "4          297101  Alexandria (City)        201 - Naomi L. Brooks School   \n",
      "\n",
      "     Current Region       Current Turf HDs  voters  supporters  \\\n",
      "0  R01 - Inner Nova  R01A - Alexandria   5    4035        3065   \n",
      "1  R01 - Inner Nova  R01A - Alexandria   5    2787        2144   \n",
      "2  R01 - Inner Nova  R01A - Alexandria   5    3346        2652   \n",
      "3  R01 - Inner Nova  R01A - Alexandria   5    3194        2436   \n",
      "4  R01 - Inner Nova  R01A - Alexandria   5    2674        2174   \n",
      "\n",
      "              precinct_name_doe        GEOID  \\\n",
      "0           Lyles Crouch School  51510000103   \n",
      "1  Fire Department Headquarters  51510000109   \n",
      "2                 Durant Center  51510000104   \n",
      "3                     City Hall  51510000102   \n",
      "4        Naomi L. Brooks School  51510000201   \n",
      "\n",
      "                                            geometry  \n",
      "0  POLYGON ((-77.04746 38.80279, -77.04771 38.801...  \n",
      "1  POLYGON ((-77.04893 38.84125, -77.04891 38.841...  \n",
      "2  POLYGON ((-77.06476 38.80506, -77.06427 38.805...  \n",
      "3  POLYGON ((-77.04771 38.80164, -77.04746 38.802...  \n",
      "4  POLYGON ((-77.07155 38.81404, -77.07006 38.814...  \n"
     ]
    }
   ],
   "source": [
    "# filter only columns from precinct_shapes that we want\n",
    "shapes_filtered = precinct_shapes[['van_precinct_id', 'PrcnctName', 'GEOID', 'geometry']].copy()\n",
    "\n",
    "# rename PrcnctName to precinct_name_doe\n",
    "shapes_filtered = shapes_filtered.rename(columns={'PrcnctName': 'precinct_name_doe'})\n",
    "\n",
    "# filter only data we want from turfs_precincts\n",
    "turfs_filtered_updated = turfed_precincts_updated[['van_precinct_id', 'county_name', 'van_precinct_name', \n",
    "                                  'Current Region', 'Current Turf', 'HDs', 'voters', 'supporters']].copy()\n",
    "\n",
    "# left join the geometries onto the turf data\n",
    "merged_gdf_updated = turfs_filtered_updated.merge(shapes_filtered, on='van_precinct_id', how='left')\n",
    "\n",
    "# convert to gdf\n",
    "merged_gdf_updated = gpd.GeoDataFrame(merged_gdf_updated, crs='EPSG:4326')\n",
    "\n",
    "print(f\"Original turf data: {len(turfed_precincts_updated)} records\")\n",
    "print(f\"Original shape data: {len(precinct_shapes)} records\") \n",
    "print(f\"Merged data: {len(merged_gdf_updated)} records\")\n",
    "print(f\"Records with geometry: {merged_gdf_updated.geometry.notna().sum()}\")\n",
    "print(f\"Records without geometry: {merged_gdf_updated.geometry.isna().sum()}\")\n",
    "print(f\"All turf records preserved: {len(merged_gdf_updated) == len(turfed_precincts_updated)}\")\n",
    "\n",
    "print(\"\\nColumns in merged dataset:\")\n",
    "print(merged_gdf_updated.columns.tolist())\n",
    "\n",
    "print(\"\\nFirst few rows:\")\n",
    "print(merged_gdf_updated.head())"
   ]
  },
  {
   "cell_type": "code",
   "execution_count": 41,
   "id": "56fe1fcb-90a0-4579-8d2b-0a5953db3ef7",
   "metadata": {},
   "outputs": [],
   "source": [
    "merged_gdf_updated.to_csv('output/turfed_precincts_updated_pre_AOK.csv', index=False)"
   ]
  },
  {
   "cell_type": "code",
   "execution_count": 42,
   "id": "718dae37-4a8e-4101-a9ff-ee124899f987",
   "metadata": {},
   "outputs": [
    {
     "data": {
      "text/plain": [
       "Index(['van_precinct_id', 'county_name', 'van_precinct_name', 'Current Region',\n",
       "       'Current Turf', 'HDs', 'voters', 'supporters', 'precinct_name_doe',\n",
       "       'GEOID', 'geometry'],\n",
       "      dtype='object')"
      ]
     },
     "execution_count": 42,
     "metadata": {},
     "output_type": "execute_result"
    }
   ],
   "source": [
    "merged_gdf_updated.columns"
   ]
  },
  {
   "cell_type": "code",
   "execution_count": 43,
   "id": "fbf2b115-8288-45b2-82f3-201f969614fb",
   "metadata": {},
   "outputs": [
    {
     "name": "stdout",
     "output_type": "stream",
     "text": [
      "Loading original CSV...\n",
      "Loaded 2,647 precincts\n",
      "Converting WKT to geometries...\n",
      "Simplifying geometries...\n",
      "Calculating centroids...\n",
      "Calculating bounds...\n",
      "Saving GeoJSON...\n",
      "Saving metrics CSV...\n",
      "Creating aggregated summaries...\n",
      "Creating region-specific files...\n",
      "  - Saved R01 - Inner Nova: 86 precincts\n",
      "  - Saved R04 - Prince William: 190 precincts\n",
      "  - Saved R02 - Fairfax: 191 precincts\n",
      "  - Saved R03 - Loudoun: 168 precincts\n",
      "  - Saved R05 - Fredericksburg: 178 precincts\n",
      "  - Saved R12 - Shenandoah: 261 precincts\n",
      "  - Saved R13 - Southwest: 538 precincts\n",
      "  - Saved R06 - North Richmond: 152 precincts\n",
      "  - Saved R07 - South Richmond: 129 precincts\n",
      "  - Saved R08 - Newport News: 93 precincts\n",
      "  - Saved R11 - Southside: 172 precincts\n",
      "  - Saved R09 - Suffolk: 167 precincts\n",
      "  - Saved R10 - Virginia Beach / Norfolk: 184 precincts\n",
      "  - Saved R14 - Charlottesville: 138 precincts\n",
      "\n",
      "Preprocessing complete!\n",
      "\n",
      "=== File Size Comparison ===\n",
      "Original CSV with WKT: 105.32 MB\n",
      "Simplified GeoJSON: 16.61 MB\n",
      "Metrics CSV (no geometry): 0.55 MB\n",
      "\n",
      "GeoJSON size ratio: 15.8% of original\n",
      "\n",
      "=== Memory Usage ===\n",
      "Original dataframe in memory: 1.17 MB\n",
      "GeoDataFrame with simplified geometry: 1.15 MB\n",
      "\n",
      "Files saved to output/ directory\n"
     ]
    }
   ],
   "source": [
    "import pandas as pd\n",
    "import geopandas as gpd\n",
    "from shapely import wkt\n",
    "import json\n",
    "import os\n",
    "\n",
    "# Load original data\n",
    "print(\"Loading original CSV...\")\n",
    "df = pd.read_csv(\"output/turfed_precincts_updated_pre_AOK.csv\")\n",
    "print(f\"Loaded {len(df):,} precincts\")\n",
    "\n",
    "# Convert WKT to geometries\n",
    "print(\"Converting WKT to geometries...\")\n",
    "df['geometry'] = df['geometry'].apply(wkt.loads)\n",
    "gdf = gpd.GeoDataFrame(df, geometry='geometry', crs='EPSG:4326')\n",
    "\n",
    "# Simplify geometries IN PLACE - replace the original geometry column\n",
    "print(\"Simplifying geometries...\")\n",
    "gdf['geometry'] = gdf['geometry'].simplify(0.0001)\n",
    "\n",
    "# Calculate centroids for marker-based views\n",
    "print(\"Calculating centroids...\")\n",
    "# Suppress the CRS warning - we know it's geographic but centroids are fine for our use\n",
    "import warnings\n",
    "with warnings.catch_warnings():\n",
    "    warnings.simplefilter(\"ignore\")\n",
    "    gdf['centroid_lat'] = gdf.geometry.centroid.y\n",
    "    gdf['centroid_lon'] = gdf.geometry.centroid.x\n",
    "\n",
    "# Calculate bounds for each precinct (useful for zooming)\n",
    "print(\"Calculating bounds...\")\n",
    "bounds = gdf.geometry.bounds\n",
    "gdf['min_lon'] = bounds['minx']\n",
    "gdf['min_lat'] = bounds['miny']\n",
    "gdf['max_lon'] = bounds['maxx']\n",
    "gdf['max_lat'] = bounds['maxy']\n",
    "\n",
    "# Create a version without geometry for faster filtering\n",
    "df_metrics = gdf.drop(columns=['geometry']).copy()\n",
    "\n",
    "# Save different versions for different use cases\n",
    "\n",
    "# 1. Full GeoJSON with simplified geometries (for map display)\n",
    "print(\"Saving GeoJSON...\")\n",
    "with open('output/precincts_simplified_updated.geojson', 'w') as f:\n",
    "    f.write(gdf.to_json())\n",
    "\n",
    "# 2. Metrics-only CSV (for filtering and stats - MUCH faster to load)\n",
    "print(\"Saving metrics CSV...\")\n",
    "df_metrics.to_csv('output/precincts_metrics_updated.csv', index=False)\n",
    "\n",
    "# 3. Create pre-aggregated summaries by region and turf\n",
    "print(\"Creating aggregated summaries...\")\n",
    "summary_by_region = df_metrics.groupby('Current Region').agg({\n",
    "    'voters': 'sum',\n",
    "    'supporters': 'sum',\n",
    "    'van_precinct_id': 'count'\n",
    "}).rename(columns={'van_precinct_id': 'precinct_count'}).reset_index()\n",
    "\n",
    "summary_by_turf = df_metrics.groupby(['Current Region', 'Current Turf']).agg({\n",
    "    'voters': 'sum',\n",
    "    'supporters': 'sum',\n",
    "    'van_precinct_id': 'count'\n",
    "}).rename(columns={'van_precinct_id': 'precinct_count'}).reset_index()\n",
    "\n",
    "summary_by_region.to_csv('output/summary_by_region_updated.csv', index=False)\n",
    "summary_by_turf.to_csv('output/summary_by_turf_updated.csv', index=False)\n",
    "\n",
    "# 4. Optional: Create separate GeoJSON files by region (for lazy loading)\n",
    "print(\"Creating region-specific files...\")\n",
    "os.makedirs('output/regions', exist_ok=True)\n",
    "for region in gdf['Current Region'].unique():\n",
    "    region_gdf = gdf[gdf['Current Region'] == region]\n",
    "    safe_filename = region.replace('/', '_').replace(' ', '_')\n",
    "    with open(f'output/regions/{safe_filename}_updated.geojson', 'w') as f:\n",
    "        f.write(region_gdf.to_json())\n",
    "    print(f\"  - Saved {region}: {len(region_gdf):,} precincts\")\n",
    "\n",
    "print(\"\\nPreprocessing complete!\")\n",
    "print(\"\\n=== File Size Comparison ===\")\n",
    "import os\n",
    "\n",
    "# Check original file size\n",
    "original_size = os.path.getsize(\"output/turfed_precincts_updated_pre_AOK.csv\") / (1024**2)\n",
    "print(f\"Original CSV with WKT: {original_size:.2f} MB\")\n",
    "\n",
    "# Check new files\n",
    "geojson_size = os.path.getsize(\"output/precincts_simplified_updated.geojson\") / (1024**2)\n",
    "metrics_size = os.path.getsize(\"output/precincts_metrics_updated.csv\") / (1024**2)\n",
    "\n",
    "print(f\"Simplified GeoJSON: {geojson_size:.2f} MB\")\n",
    "print(f\"Metrics CSV (no geometry): {metrics_size:.2f} MB\")\n",
    "print(f\"\\nGeoJSON size ratio: {geojson_size/original_size:.1%} of original\")\n",
    "\n",
    "# Memory comparison\n",
    "print(\"\\n=== Memory Usage ===\")\n",
    "print(f\"Original dataframe in memory: {df.memory_usage(deep=True).sum() / 1024**2:.2f} MB\")\n",
    "print(f\"GeoDataFrame with simplified geometry: {gdf.memory_usage(deep=True).sum() / 1024**2:.2f} MB\")\n",
    "\n",
    "print(f\"\\nFiles saved to output/ directory\")"
   ]
  },
  {
   "cell_type": "code",
   "execution_count": null,
   "id": "507ed8c7-0979-455b-b8ba-54a1f1852961",
   "metadata": {},
   "outputs": [],
   "source": []
  }
 ],
 "metadata": {
  "kernelspec": {
   "display_name": "Python 3 (ipykernel)",
   "language": "python",
   "name": "python3"
  },
  "language_info": {
   "codemirror_mode": {
    "name": "ipython",
    "version": 3
   },
   "file_extension": ".py",
   "mimetype": "text/x-python",
   "name": "python",
   "nbconvert_exporter": "python",
   "pygments_lexer": "ipython3",
   "version": "3.13.1"
  }
 },
 "nbformat": 4,
 "nbformat_minor": 5
}
