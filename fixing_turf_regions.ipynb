{
 "cells": [
  {
   "cell_type": "code",
   "execution_count": 14,
   "id": "7f3f7cb6-f29d-4386-b2ac-cb5884f32d8e",
   "metadata": {},
   "outputs": [],
   "source": [
    "import geopandas as gpd\n",
    "import pandas as pd\n",
    "\n",
    "precinct_shapes = gpd.read_file('data/master_precinct_shapes.csv')\n",
    "turfed_precincts = pd.read_csv('data/turfs_regions_base.csv', dtype={'van_precinct_id': str})\n"
   ]
  },
  {
   "cell_type": "code",
   "execution_count": 15,
   "id": "a9e5bade-be0b-48c7-b93f-acc0c7227f6f",
   "metadata": {},
   "outputs": [
    {
     "data": {
      "text/plain": [
       "Index(['van_precinct_id', 'county_name', 'van_precinct_name', 'Current Region',\n",
       "       'Current Turf', 'Comments', 'HDs', 'voters', 'supporters', 'Unnamed: 9',\n",
       "       'Unnamed: 10'],\n",
       "      dtype='object')"
      ]
     },
     "execution_count": 15,
     "metadata": {},
     "output_type": "execute_result"
    }
   ],
   "source": [
    "turfed_precincts.columns"
   ]
  },
  {
   "cell_type": "code",
   "execution_count": 16,
   "id": "394878e5-8382-47d5-a019-2ad532eff17d",
   "metadata": {},
   "outputs": [
    {
     "data": {
      "text/plain": [
       "Index(['PrcnctName', 'van_precinct_name', 'CountyName', 'county_name',\n",
       "       'CountyFIPS', 'county_fips', 'GEOID', 'van_precinct_id', 'WKT',\n",
       "       'geometry'],\n",
       "      dtype='object')"
      ]
     },
     "execution_count": 16,
     "metadata": {},
     "output_type": "execute_result"
    }
   ],
   "source": [
    "precinct_shapes.columns"
   ]
  },
  {
   "cell_type": "code",
   "execution_count": 17,
   "id": "ca5eb435-bc82-4d7f-b96e-0c103e2769f0",
   "metadata": {},
   "outputs": [
    {
     "name": "stdout",
     "output_type": "stream",
     "text": [
      "Original turf data: 2527 records\n",
      "Original shape data: 2541 records\n",
      "Merged data: 2535 records\n",
      "Records with geometry: 2535\n",
      "Records without geometry: 0\n",
      "All turf records preserved: False\n",
      "\n",
      "Columns in merged dataset:\n",
      "['van_precinct_id', 'county_name', 'van_precinct_name', 'Current Region', 'Current Turf', 'HDs', 'voters', 'supporters', 'precinct_name_doe', 'GEOID', 'geometry']\n",
      "\n",
      "First few rows:\n",
      "  van_precinct_id        county_name                   van_precinct_name  \\\n",
      "0          297094  Alexandria (City)           103 - Lyles Crouch School   \n",
      "1          297100  Alexandria (City)  109 - Fire Department Headquarters   \n",
      "2          297095  Alexandria (City)                 104 - Durant Center   \n",
      "3          297093  Alexandria (City)                     102 - City Hall   \n",
      "4          297101  Alexandria (City)        201 - Naomi L. Brooks School   \n",
      "\n",
      "     Current Region       Current Turf HDs  voters  supporters  \\\n",
      "0  R01 - Inner Nova  R01A - Alexandria   5    4035        3065   \n",
      "1  R01 - Inner Nova  R01A - Alexandria   5    2787        2144   \n",
      "2  R01 - Inner Nova  R01A - Alexandria   5    3346        2652   \n",
      "3  R01 - Inner Nova  R01A - Alexandria   5    3194        2436   \n",
      "4  R01 - Inner Nova  R01A - Alexandria   5    2674        2174   \n",
      "\n",
      "              precinct_name_doe        GEOID  \\\n",
      "0           Lyles Crouch School  51510000103   \n",
      "1  Fire Department Headquarters  51510000109   \n",
      "2                 Durant Center  51510000104   \n",
      "3                     City Hall  51510000102   \n",
      "4        Naomi L. Brooks School  51510000201   \n",
      "\n",
      "                                            geometry  \n",
      "0  POLYGON ((-77.04746 38.80279, -77.04771 38.801...  \n",
      "1  POLYGON ((-77.04893 38.84125, -77.04891 38.841...  \n",
      "2  POLYGON ((-77.06476 38.80506, -77.06427 38.805...  \n",
      "3  POLYGON ((-77.04771 38.80164, -77.04746 38.802...  \n",
      "4  POLYGON ((-77.07155 38.81404, -77.07006 38.814...  \n"
     ]
    }
   ],
   "source": [
    "# filter only columns from precinct_shapes that we want\n",
    "shapes_filtered = precinct_shapes[['van_precinct_id', 'PrcnctName', 'GEOID', 'geometry']].copy()\n",
    "\n",
    "# rename PrcnctName to precinct_name_doe\n",
    "shapes_filtered = shapes_filtered.rename(columns={'PrcnctName': 'precinct_name_doe'})\n",
    "\n",
    "# filter only data we want from turfs_precincts\n",
    "turfs_filtered = turfed_precincts[['van_precinct_id', 'county_name', 'van_precinct_name', \n",
    "                                  'Current Region', 'Current Turf', 'HDs', 'voters', 'supporters']].copy()\n",
    "\n",
    "# left join the geometries onto the turf data\n",
    "merged_gdf = turfs_filtered.merge(shapes_filtered, on='van_precinct_id', how='left')\n",
    "\n",
    "# convert to gdf\n",
    "merged_gdf = gpd.GeoDataFrame(merged_gdf, crs='EPSG:4326')\n",
    "\n",
    "print(f\"Original turf data: {len(turfed_precincts)} records\")\n",
    "print(f\"Original shape data: {len(precinct_shapes)} records\") \n",
    "print(f\"Merged data: {len(merged_gdf)} records\")\n",
    "print(f\"Records with geometry: {merged_gdf.geometry.notna().sum()}\")\n",
    "print(f\"Records without geometry: {merged_gdf.geometry.isna().sum()}\")\n",
    "print(f\"All turf records preserved: {len(merged_gdf) == len(turfed_precincts)}\")\n",
    "\n",
    "print(\"\\nColumns in merged dataset:\")\n",
    "print(merged_gdf.columns.tolist())\n",
    "\n",
    "print(\"\\nFirst few rows:\")\n",
    "print(merged_gdf.head())"
   ]
  },
  {
   "cell_type": "code",
   "execution_count": 18,
   "id": "83cf9fc6-c172-480f-b684-4d7a2af9a678",
   "metadata": {},
   "outputs": [
    {
     "name": "stdout",
     "output_type": "stream",
     "text": [
      "Original turf data had 2527 unique van_precinct_ids\n",
      "Merged data has 2527 unique van_precinct_ids\n",
      "Missing van_precinct_ids: 0\n",
      "\n",
      "✓ All van_precinct_ids from original turf data are preserved in the merge!\n"
     ]
    }
   ],
   "source": [
    "# Check if any van_precinct_ids were lost in the merge\n",
    "original_ids = set(turfed_precincts['van_precinct_id'])\n",
    "merged_ids = set(merged_gdf['van_precinct_id'])\n",
    "\n",
    "missing_ids = original_ids - merged_ids\n",
    "print(f\"Original turf data had {len(original_ids)} unique van_precinct_ids\")\n",
    "print(f\"Merged data has {len(merged_ids)} unique van_precinct_ids\")\n",
    "print(f\"Missing van_precinct_ids: {len(missing_ids)}\")\n",
    "\n",
    "if missing_ids:\n",
    "    print(f\"\\nThe following {len(missing_ids)} van_precinct_ids were lost:\")\n",
    "    for missing_id in sorted(missing_ids):\n",
    "        print(f\"  {missing_id}\")\n",
    "else:\n",
    "    print(\"\\n✓ All van_precinct_ids from original turf data are preserved in the merge!\")"
   ]
  },
  {
   "cell_type": "code",
   "execution_count": 19,
   "id": "56fe1fcb-90a0-4579-8d2b-0a5953db3ef7",
   "metadata": {},
   "outputs": [],
   "source": [
    "merged_gdf.to_csv('output/turfed_precincts_pre_AOK.csv', index=False)"
   ]
  },
  {
   "cell_type": "code",
   "execution_count": 20,
   "id": "098aa971-d5e7-4383-a2ce-e1d038299f1b",
   "metadata": {},
   "outputs": [
    {
     "name": "stdout",
     "output_type": "stream",
     "text": [
      "Original shapes data had 2533 unique van_precinct_ids\n",
      "Merged data has 2527 unique van_precinct_ids\n",
      "Shapes missing from merged data: 6\n",
      "\n",
      "The following 6 shapes were not included in the merge:\n",
      "van_precinct_id    PrcnctName        CountyName       GEOID\n",
      "                FAIRFAX COURT    FAIRFAX COUNTY 51059000700\n",
      "         296106         Hayes GLOUCESTER COUNTY 51073000401\n",
      "         296107  Sarahs Creek GLOUCESTER COUNTY 51073000402\n",
      "         296568  PRECINCT 3-1   NOTTOWAY COUNTY 51135000301\n",
      "        2228518        1 TOWN     ORANGE COUNTY 51137000103\n",
      "        2228477        3 TOWN     ORANGE COUNTY 51137000303\n"
     ]
    }
   ],
   "source": [
    "# Check which geometries from the original shapes data are missing in the merged data\n",
    "original_shape_ids = set(precinct_shapes['van_precinct_id'])\n",
    "merged_ids = set(merged_gdf['van_precinct_id'])\n",
    "\n",
    "missing_shapes = original_shape_ids - merged_ids\n",
    "\n",
    "print(f\"Original shapes data had {len(original_shape_ids)} unique van_precinct_ids\")\n",
    "print(f\"Merged data has {len(merged_ids)} unique van_precinct_ids\") \n",
    "print(f\"Shapes missing from merged data: {len(missing_shapes)}\")\n",
    "\n",
    "if missing_shapes:\n",
    "    print(f\"\\nThe following {len(missing_shapes)} shapes were not included in the merge:\")\n",
    "    missing_shape_details = precinct_shapes[precinct_shapes['van_precinct_id'].isin(missing_shapes)]\n",
    "    print(missing_shape_details[['van_precinct_id', 'PrcnctName', 'CountyName', 'GEOID']].to_string(index=False))\n",
    "else:\n",
    "    print(\"\\n✓ All shapes from original data are in the merged dataset!\")"
   ]
  },
  {
   "cell_type": "code",
   "execution_count": 21,
   "id": "c48441e0-0b0e-47cb-9f1b-85d473441afd",
   "metadata": {},
   "outputs": [
    {
     "name": "stdout",
     "output_type": "stream",
     "text": [
      "Checking 6 GEOIDs in original shapes data:\n",
      "      GEOID van_precinct_id    PrcnctName        CountyName\n",
      "51059000700                 FAIRFAX COURT    FAIRFAX COUNTY\n",
      "51073000401          296106         Hayes GLOUCESTER COUNTY\n",
      "51073000402          296107  Sarahs Creek GLOUCESTER COUNTY\n",
      "51135000301          296568  PRECINCT 3-1   NOTTOWAY COUNTY\n",
      "51137000103         2228518        1 TOWN     ORANGE COUNTY\n",
      "51137000303         2228477        3 TOWN     ORANGE COUNTY\n",
      "\n",
      "1 of these have null/empty van_precinct_id:\n",
      "      GEOID van_precinct_id    PrcnctName     CountyName\n",
      "51059000700                 FAIRFAX COURT FAIRFAX COUNTY\n"
     ]
    }
   ],
   "source": [
    "# GEOIDs from the missing shapes\n",
    "missing_geoids = ['51059000700', '51073000401', '51073000402', '51135000301', '51137000103', '51137000303']\n",
    "\n",
    "# Filter the original shapes data by these GEOIDs\n",
    "geoid_check = precinct_shapes[precinct_shapes['GEOID'].isin(missing_geoids)]\n",
    "\n",
    "print(f\"Checking {len(missing_geoids)} GEOIDs in original shapes data:\")\n",
    "print(geoid_check[['GEOID', 'van_precinct_id', 'PrcnctName', 'CountyName']].to_string(index=False))\n",
    "\n",
    "# Check if any of these have null/empty van_precinct_id\n",
    "null_van_ids = geoid_check[geoid_check['van_precinct_id'].isna() | (geoid_check['van_precinct_id'] == '')]\n",
    "if len(null_van_ids) > 0:\n",
    "    print(f\"\\n{len(null_van_ids)} of these have null/empty van_precinct_id:\")\n",
    "    print(null_van_ids[['GEOID', 'van_precinct_id', 'PrcnctName', 'CountyName']].to_string(index=False))\n",
    "else:\n",
    "    print(\"\\nAll of these have assigned van_precinct_ids\")"
   ]
  },
  {
   "cell_type": "code",
   "execution_count": 22,
   "id": "d56c8f97-5526-4a6f-96f9-c6d11d6910c0",
   "metadata": {},
   "outputs": [
    {
     "name": "stdout",
     "output_type": "stream",
     "text": [
      "van_precinct_id 296106 exists in turf data: False\n",
      "van_precinct_id 296107 exists in turf data: False\n",
      "van_precinct_id 296568 exists in turf data: False\n",
      "van_precinct_id 2228518 exists in turf data: False\n",
      "van_precinct_id 2228477 exists in turf data: False\n",
      "\n",
      "Found 0 of these van_precinct_ids in turf data:\n"
     ]
    }
   ],
   "source": [
    "# The van_precinct_ids from the missing shapes (excluding the null one)\n",
    "missing_van_ids = ['296106', '296107', '296568', '2228518', '2228477']\n",
    "\n",
    "# Check if these exist in the turf data\n",
    "for van_id in missing_van_ids:\n",
    "    exists_in_turf = van_id in turfed_precincts['van_precinct_id'].values\n",
    "    print(f\"van_precinct_id {van_id} exists in turf data: {exists_in_turf}\")\n",
    "\n",
    "# Also check what's in turf data for these\n",
    "turf_check = turfed_precincts[turfed_precincts['van_precinct_id'].isin(missing_van_ids)]\n",
    "print(f\"\\nFound {len(turf_check)} of these van_precinct_ids in turf data:\")\n",
    "if len(turf_check) > 0:\n",
    "    print(turf_check[['van_precinct_id', 'county_name', 'van_precinct_name', 'Current Region']].to_string(index=False))"
   ]
  },
  {
   "cell_type": "code",
   "execution_count": 23,
   "id": "718dae37-4a8e-4101-a9ff-ee124899f987",
   "metadata": {},
   "outputs": [
    {
     "data": {
      "text/plain": [
       "Index(['van_precinct_id', 'county_name', 'van_precinct_name', 'Current Region',\n",
       "       'Current Turf', 'HDs', 'voters', 'supporters', 'precinct_name_doe',\n",
       "       'GEOID', 'geometry'],\n",
       "      dtype='object')"
      ]
     },
     "execution_count": 23,
     "metadata": {},
     "output_type": "execute_result"
    }
   ],
   "source": [
    "merged_gdf.columns"
   ]
  },
  {
   "cell_type": "code",
   "execution_count": 24,
   "id": "fbf2b115-8288-45b2-82f3-201f969614fb",
   "metadata": {},
   "outputs": [
    {
     "name": "stdout",
     "output_type": "stream",
     "text": [
      "Loading original CSV...\n",
      "Loaded 2,535 precincts\n",
      "Converting WKT to geometries...\n",
      "Simplifying geometries...\n",
      "Calculating centroids...\n",
      "Calculating bounds...\n",
      "Saving GeoJSON...\n",
      "Saving metrics CSV...\n",
      "Creating aggregated summaries...\n",
      "Creating region-specific files...\n",
      "  - Saved R01 - Inner Nova: 94 precincts\n",
      "  - Saved R02 - Fairfax: 202 precincts\n",
      "  - Saved R03 - Loudoun: 165 precincts\n",
      "  - Saved R04 - Prince William: 176 precincts\n",
      "  - Saved R12 - Shenandoah: 263 precincts\n",
      "  - Saved R05 - Fredericksburg: 154 precincts\n",
      "  - Saved R13 - Southwest: 482 precincts\n",
      "  - Saved R06 - North Richmond: 176 precincts\n",
      "  - Saved R07 - South Richmond: 101 precincts\n",
      "  - Saved R08 - Newport News: 88 precincts\n",
      "  - Saved R11 - Southside: 172 precincts\n",
      "  - Saved R09 - Suffolk: 158 precincts\n",
      "  - Saved R10 - Virginia Beach / Norfolk: 180 precincts\n",
      "  - Saved R14 - Charlottesville: 124 precincts\n",
      "\n",
      "Preprocessing complete!\n",
      "\n",
      "=== File Size Comparison ===\n",
      "Original CSV with WKT: 98.70 MB\n",
      "Simplified GeoJSON: 15.69 MB\n",
      "Metrics CSV (no geometry): 0.53 MB\n",
      "\n",
      "GeoJSON size ratio: 15.9% of original\n",
      "\n",
      "=== Memory Usage ===\n",
      "Original dataframe in memory: 1.12 MB\n",
      "GeoDataFrame with simplified geometry: 1.10 MB\n",
      "\n",
      "Files saved to output/ directory\n"
     ]
    }
   ],
   "source": [
    "import pandas as pd\n",
    "import geopandas as gpd\n",
    "from shapely import wkt\n",
    "import json\n",
    "import os\n",
    "\n",
    "# Load original data\n",
    "print(\"Loading original CSV...\")\n",
    "df = pd.read_csv(\"output/turfed_precincts_pre_AOK.csv\")\n",
    "print(f\"Loaded {len(df):,} precincts\")\n",
    "\n",
    "# Convert WKT to geometries\n",
    "print(\"Converting WKT to geometries...\")\n",
    "df['geometry'] = df['geometry'].apply(wkt.loads)\n",
    "gdf = gpd.GeoDataFrame(df, geometry='geometry', crs='EPSG:4326')\n",
    "\n",
    "# Simplify geometries IN PLACE - replace the original geometry column\n",
    "print(\"Simplifying geometries...\")\n",
    "gdf['geometry'] = gdf['geometry'].simplify(0.0001)\n",
    "\n",
    "# Calculate centroids for marker-based views\n",
    "print(\"Calculating centroids...\")\n",
    "# Suppress the CRS warning - we know it's geographic but centroids are fine for our use\n",
    "import warnings\n",
    "with warnings.catch_warnings():\n",
    "    warnings.simplefilter(\"ignore\")\n",
    "    gdf['centroid_lat'] = gdf.geometry.centroid.y\n",
    "    gdf['centroid_lon'] = gdf.geometry.centroid.x\n",
    "\n",
    "# Calculate bounds for each precinct (useful for zooming)\n",
    "print(\"Calculating bounds...\")\n",
    "bounds = gdf.geometry.bounds\n",
    "gdf['min_lon'] = bounds['minx']\n",
    "gdf['min_lat'] = bounds['miny']\n",
    "gdf['max_lon'] = bounds['maxx']\n",
    "gdf['max_lat'] = bounds['maxy']\n",
    "\n",
    "# Create a version without geometry for faster filtering\n",
    "df_metrics = gdf.drop(columns=['geometry']).copy()\n",
    "\n",
    "# Save different versions for different use cases\n",
    "\n",
    "# 1. Full GeoJSON with simplified geometries (for map display)\n",
    "print(\"Saving GeoJSON...\")\n",
    "with open('output/precincts_simplified.geojson', 'w') as f:\n",
    "    f.write(gdf.to_json())\n",
    "\n",
    "# 2. Metrics-only CSV (for filtering and stats - MUCH faster to load)\n",
    "print(\"Saving metrics CSV...\")\n",
    "df_metrics.to_csv('output/precincts_metrics.csv', index=False)\n",
    "\n",
    "# 3. Create pre-aggregated summaries by region and turf\n",
    "print(\"Creating aggregated summaries...\")\n",
    "summary_by_region = df_metrics.groupby('Current Region').agg({\n",
    "    'voters': 'sum',\n",
    "    'supporters': 'sum',\n",
    "    'van_precinct_id': 'count'\n",
    "}).rename(columns={'van_precinct_id': 'precinct_count'}).reset_index()\n",
    "\n",
    "summary_by_turf = df_metrics.groupby(['Current Region', 'Current Turf']).agg({\n",
    "    'voters': 'sum',\n",
    "    'supporters': 'sum',\n",
    "    'van_precinct_id': 'count'\n",
    "}).rename(columns={'van_precinct_id': 'precinct_count'}).reset_index()\n",
    "\n",
    "summary_by_region.to_csv('output/summary_by_region.csv', index=False)\n",
    "summary_by_turf.to_csv('output/summary_by_turf.csv', index=False)\n",
    "\n",
    "# 4. Optional: Create separate GeoJSON files by region (for lazy loading)\n",
    "print(\"Creating region-specific files...\")\n",
    "os.makedirs('output/regions', exist_ok=True)\n",
    "for region in gdf['Current Region'].unique():\n",
    "    region_gdf = gdf[gdf['Current Region'] == region]\n",
    "    safe_filename = region.replace('/', '_').replace(' ', '_')\n",
    "    with open(f'output/regions/{safe_filename}.geojson', 'w') as f:\n",
    "        f.write(region_gdf.to_json())\n",
    "    print(f\"  - Saved {region}: {len(region_gdf):,} precincts\")\n",
    "\n",
    "print(\"\\nPreprocessing complete!\")\n",
    "print(\"\\n=== File Size Comparison ===\")\n",
    "import os\n",
    "\n",
    "# Check original file size\n",
    "original_size = os.path.getsize(\"output/turfed_precincts_pre_AOK.csv\") / (1024**2)\n",
    "print(f\"Original CSV with WKT: {original_size:.2f} MB\")\n",
    "\n",
    "# Check new files\n",
    "geojson_size = os.path.getsize(\"output/precincts_simplified.geojson\") / (1024**2)\n",
    "metrics_size = os.path.getsize(\"output/precincts_metrics.csv\") / (1024**2)\n",
    "\n",
    "print(f\"Simplified GeoJSON: {geojson_size:.2f} MB\")\n",
    "print(f\"Metrics CSV (no geometry): {metrics_size:.2f} MB\")\n",
    "print(f\"\\nGeoJSON size ratio: {geojson_size/original_size:.1%} of original\")\n",
    "\n",
    "# Memory comparison\n",
    "print(\"\\n=== Memory Usage ===\")\n",
    "print(f\"Original dataframe in memory: {df.memory_usage(deep=True).sum() / 1024**2:.2f} MB\")\n",
    "print(f\"GeoDataFrame with simplified geometry: {gdf.memory_usage(deep=True).sum() / 1024**2:.2f} MB\")\n",
    "\n",
    "print(f\"\\nFiles saved to output/ directory\")"
   ]
  },
  {
   "cell_type": "code",
   "execution_count": null,
   "id": "507ed8c7-0979-455b-b8ba-54a1f1852961",
   "metadata": {},
   "outputs": [],
   "source": []
  }
 ],
 "metadata": {
  "kernelspec": {
   "display_name": "Python 3 (ipykernel)",
   "language": "python",
   "name": "python3"
  },
  "language_info": {
   "codemirror_mode": {
    "name": "ipython",
    "version": 3
   },
   "file_extension": ".py",
   "mimetype": "text/x-python",
   "name": "python",
   "nbconvert_exporter": "python",
   "pygments_lexer": "ipython3",
   "version": "3.13.1"
  }
 },
 "nbformat": 4,
 "nbformat_minor": 5
}
